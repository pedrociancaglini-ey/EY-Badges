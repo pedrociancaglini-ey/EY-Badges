{
  "nbformat": 4,
  "nbformat_minor": 5,
  "metadata": {
    "colab": {
      "name": "arrays_ciancaglini_corregido.ipynb",
      "provenance": [],
      "include_colab_link": true
    },
    "kernelspec": {
      "display_name": "Python 3",
      "language": "python",
      "name": "python3"
    },
    "language_info": {
      "codemirror_mode": {
        "name": "ipython",
        "version": 3
      },
      "file_extension": ".py",
      "mimetype": "text/x-python",
      "name": "python",
      "nbconvert_exporter": "python",
      "pygments_lexer": "ipython3",
      "version": "3.9.1"
    }
  },
  "cells": [
    {
      "cell_type": "markdown",
      "metadata": {
        "id": "view-in-github",
        "colab_type": "text"
      },
      "source": [
        "<a href=\"https://colab.research.google.com/github/pedrociancaglini-ey/EY-Badges/blob/main/DSBZ_numpy_ciancaglini.ipynb\" target=\"_parent\"><img src=\"https://colab.research.google.com/assets/colab-badge.svg\" alt=\"Open In Colab\"/></a>"
      ]
    },
    {
      "cell_type": "markdown",
      "metadata": {
        "id": "c88daef4"
      },
      "source": [
        "## Excercise 1:  \n",
        "#### Create an array of 100 random elements. Calc median. \n",
        "\n",
        "Author: Pedro Ciancaglini"
      ],
      "id": "c88daef4"
    },
    {
      "cell_type": "code",
      "metadata": {
        "id": "8deb60e3",
        "scrolled": true
      },
      "source": [
        "# Importing required libraries\n",
        "import numpy as np"
      ],
      "id": "8deb60e3",
      "execution_count": 1,
      "outputs": []
    },
    {
      "cell_type": "code",
      "metadata": {
        "colab": {
          "base_uri": "https://localhost:8080/"
        },
        "id": "rH11OUqLjKV0",
        "outputId": "96ba9e58-315a-4038-ae48-9ad68d2be30b"
      },
      "source": [
        "# Creating our random array with 100 elements\n",
        "random_array = np.random.randint(100,size=100)\n",
        "random_array"
      ],
      "id": "rH11OUqLjKV0",
      "execution_count": 5,
      "outputs": [
        {
          "output_type": "execute_result",
          "data": {
            "text/plain": [
              "array([51, 98, 38, 39, 46, 26, 95, 96,  2, 72, 26, 49,  8, 21, 99, 67, 87,\n",
              "       11, 76, 84, 86, 91, 92,  9, 56, 79, 24, 85,  8, 27, 75, 90, 25, 34,\n",
              "       75, 61, 65, 61, 52, 41, 34,  3, 88,  3, 87, 16, 40, 57, 59, 29,  3,\n",
              "        7, 80, 24, 91, 58, 36, 76, 76, 23, 14, 79, 93, 75, 48, 12, 63, 71,\n",
              "       58, 99, 12, 98, 60, 42, 82, 18, 95, 72, 21, 85, 37, 16, 22,  2, 55,\n",
              "       36, 66, 37,  2, 12, 30, 93, 20,  5, 73, 57, 30, 37, 51, 70])"
            ]
          },
          "metadata": {},
          "execution_count": 5
        }
      ]
    },
    {
      "cell_type": "code",
      "metadata": {
        "colab": {
          "base_uri": "https://localhost:8080/"
        },
        "id": "hIDqIeQsidLO",
        "outputId": "22a9c1a3-92c3-4184-8810-940b7315aaeb"
      },
      "source": [
        "# Calculating median\n",
        "median_array = np.median(random_array)\n",
        "median_array"
      ],
      "id": "hIDqIeQsidLO",
      "execution_count": 3,
      "outputs": [
        {
          "output_type": "execute_result",
          "data": {
            "text/plain": [
              "58.0"
            ]
          },
          "metadata": {},
          "execution_count": 3
        }
      ]
    },
    {
      "cell_type": "code",
      "metadata": {
        "id": "9b57b8e6",
        "scrolled": true,
        "colab": {
          "base_uri": "https://localhost:8080/"
        },
        "outputId": "10a02e9f-ce71-4889-d6a9-25dbb9634e45"
      },
      "source": [
        "# With reshape, you can create a Matrix from an Array \n",
        "reshaped_array = random_array.reshape(10,10) # 10x10 Matrix\n",
        "print(reshaped_array)"
      ],
      "id": "9b57b8e6",
      "execution_count": 7,
      "outputs": [
        {
          "output_type": "stream",
          "text": [
            "[[51 98 38 39 46 26 95 96  2 72]\n",
            " [26 49  8 21 99 67 87 11 76 84]\n",
            " [86 91 92  9 56 79 24 85  8 27]\n",
            " [75 90 25 34 75 61 65 61 52 41]\n",
            " [34  3 88  3 87 16 40 57 59 29]\n",
            " [ 3  7 80 24 91 58 36 76 76 23]\n",
            " [14 79 93 75 48 12 63 71 58 99]\n",
            " [12 98 60 42 82 18 95 72 21 85]\n",
            " [37 16 22  2 55 36 66 37  2 12]\n",
            " [30 93 20  5 73 57 30 37 51 70]]\n"
          ],
          "name": "stdout"
        }
      ]
    },
    {
      "cell_type": "code",
      "metadata": {
        "id": "c0ef2843",
        "outputId": "ec27f6db-f751-4fc2-9cbe-4052f45e0513"
      },
      "source": [
        "##### funcion para seleccionar un elemento del Array Aleatorio ######\n",
        "def seleccion(arr):\n",
        "   \n",
        "    eleccion = int(input(\"Seleccionar un vector del Array para operar> \")) # Pedimos seleccionar un vector del array\n",
        "\n",
        "    while eleccion > len(arr):                                             # Volvemos a pedirlo si no es valido\n",
        "        eleccion = int(input(\"Debe ser un vector del array> \"))\n",
        "    \n",
        "    return arr[eleccion,]                                                  # Retornamos vector seleccionado del array\n",
        "\n",
        "print(seleccion(Array_reshaped))                                           # Probamos la funcion, imprimiendo el vector"
      ],
      "id": "c0ef2843",
      "execution_count": null,
      "outputs": [
        {
          "name": "stdout",
          "output_type": "stream",
          "text": [
            "Seleccionar un vector del Array para operar> 1\n",
            "[85 75  0 56 73 72 88 35 65 80]\n"
          ]
        }
      ]
    },
    {
      "cell_type": "markdown",
      "metadata": {
        "id": "c6b0b914"
      },
      "source": [
        "## Ejercicio 2> \n",
        "#### Recordar los ejercicios con funciones para cálculo de factorial y suma de serie. Repetir ambos ejercicios (puede ser sobre el mismo código), pero ahora utilizar las nuevas operaciones aprendidas con los ndarrays."
      ],
      "id": "c6b0b914"
    },
    {
      "cell_type": "markdown",
      "metadata": {
        "id": "b988e165"
      },
      "source": [
        "###### Probamos primero con la adición en serie"
      ],
      "id": "b988e165"
    },
    {
      "cell_type": "code",
      "metadata": {
        "id": "3ce81b97",
        "scrolled": true
      },
      "source": [
        "def adicion(arr):                                            # Definimos funcion para sumar elementos del vector en serie\n",
        "    suma = 0                                                 # inicializamos la variable Suma en 0\n",
        "    \n",
        "    for i in arr:                                            # Realizamos la adicion por medio de un loop\n",
        "        suma += i\n",
        "\n",
        "    print(\"Resultado por Loop: \",suma)                       # imprimimos el resultado del loop\n",
        "    print(\"Resultado por func sum()'' Numpy: \", arr.sum())   # funcion de Numpy realiza suma de los elementos del vector"
      ],
      "id": "3ce81b97",
      "execution_count": null,
      "outputs": []
    },
    {
      "cell_type": "code",
      "metadata": {
        "id": "68585a8f",
        "scrolled": true,
        "outputId": "e590a4f4-16c5-4c10-e5ae-00e6dd642c2a"
      },
      "source": [
        "adicion(seleccion(Array_reshaped))  # invocamos a la funcion adicion, indicando previamente el vector del array"
      ],
      "id": "68585a8f",
      "execution_count": null,
      "outputs": [
        {
          "name": "stdout",
          "output_type": "stream",
          "text": [
            "Seleccionar un vector del Array para operar> 1\n",
            "Resultado por Loop:  402\n",
            "Resultado por func sum()'' Numpy:  402\n"
          ]
        }
      ]
    },
    {
      "cell_type": "code",
      "metadata": {
        "id": "0873f2ac",
        "outputId": "242c9cf1-c2c9-4d17-a488-c11c5537a956"
      },
      "source": [
        "%time \n",
        "arr = np.random.randint(1000, size=(100,100))\n",
        "\n",
        "\n",
        "adicion(arr)"
      ],
      "id": "0873f2ac",
      "execution_count": null,
      "outputs": [
        {
          "name": "stdout",
          "output_type": "stream",
          "text": [
            "CPU times: user 10 µs, sys: 2 µs, total: 12 µs\n",
            "Wall time: 19.8 µs\n",
            "Resultado por Loop:  [48399 51871 50160 45173 53618 50139 45245 48830 47092 49642 51354 50554\n",
            " 50116 52910 51623 50303 50422 53381 57708 50001 49157 53036 51121 49848\n",
            " 50303 46014 52239 45245 47564 49295 51335 49650 48139 51973 49587 47043\n",
            " 47434 51742 52452 50577 52996 48539 48655 51132 48651 52727 49463 50298\n",
            " 53852 51939 49756 53903 49602 48656 49139 51648 52121 51463 49148 48892\n",
            " 46490 53905 48650 53869 51307 48723 50094 49272 52145 49110 52269 50934\n",
            " 53633 51677 50886 48769 44690 49462 48043 54261 50891 51226 51220 53120\n",
            " 50645 48727 48789 49588 47911 52812 47182 49148 49588 50516 50988 45993\n",
            " 51505 48259 54034 53849]\n",
            "Resultado por func sum()'' Numpy:  5029055\n"
          ]
        }
      ]
    },
    {
      "cell_type": "code",
      "metadata": {
        "id": "4c3321f5",
        "outputId": "2c379095-7950-4ffd-99ea-5e22b0499e0a"
      },
      "source": [
        "%time\n",
        "\n",
        "arr.sum()"
      ],
      "id": "4c3321f5",
      "execution_count": null,
      "outputs": [
        {
          "name": "stdout",
          "output_type": "stream",
          "text": [
            "CPU times: user 8 µs, sys: 0 ns, total: 8 µs\n",
            "Wall time: 15 µs\n"
          ]
        },
        {
          "data": {
            "text/plain": [
              "5029055"
            ]
          },
          "execution_count": 18,
          "metadata": {},
          "output_type": "execute_result"
        }
      ]
    },
    {
      "cell_type": "markdown",
      "metadata": {
        "id": "271c6689"
      },
      "source": [
        "### Nota:\n",
        "\n",
        "__Una gran feature de jupyter son las magic functions, en este caso utilice la de `%time` nos permite mirar rapido cuanto tarda en correr nuestra celda__\n",
        "\n",
        "__Esta super interesante que observes que cuando el vector es chico, los tiempos son similares entre realizar un loop y el metodo de NumPy pero a medida que el vector crece el for loop va quedando lento al lado de aprovechar la velocidad de numpy para realizar estos calculos.__"
      ],
      "id": "271c6689"
    },
    {
      "cell_type": "markdown",
      "metadata": {
        "id": "eb1f3602"
      },
      "source": [
        "###### Operaciones con dos vectores del array (Suma y Producto)"
      ],
      "id": "eb1f3602"
    },
    {
      "cell_type": "code",
      "metadata": {
        "id": "35f1b592"
      },
      "source": [
        "def sum_vectores(vec1,vec2):                # Definimos funcion en donde sumamos 2 vectores del array\n",
        "    resultado = vec1 + vec2                 # Guardamos el resultado de la suma de los dos vectores en variable \"resultado\"\n",
        "    return resultado                        # Retornamos resultado"
      ],
      "id": "35f1b592",
      "execution_count": null,
      "outputs": []
    },
    {
      "cell_type": "code",
      "metadata": {
        "id": "737778a1",
        "outputId": "6302e93f-a4bd-4d7b-9645-cadff57a961d"
      },
      "source": [
        "print(sum_vectores(seleccion(Array_reshaped),seleccion(Array_reshaped)))  # imprimimos la suma de dos vectores"
      ],
      "id": "737778a1",
      "execution_count": null,
      "outputs": [
        {
          "name": "stdout",
          "output_type": "stream",
          "text": [
            "Seleccionar un vector del Array para operar> 1\n",
            "Seleccionar un vector del Array para operar> 2\n",
            "[131 169  75 105 172 109 128  89 140 107]\n"
          ]
        }
      ]
    },
    {
      "cell_type": "code",
      "metadata": {
        "id": "198be4eb",
        "outputId": "b78eb7f5-4cee-442f-93e9-f5bbaf00549e"
      },
      "source": [
        "a = np.random.randint(10, size=(3,4))\n",
        "\n",
        "b = np.random.randint(10, size=(2,10))\n",
        "sum_vectores(a,b)"
      ],
      "id": "198be4eb",
      "execution_count": null,
      "outputs": [
        {
          "ename": "ValueError",
          "evalue": "operands could not be broadcast together with shapes (3,4) (2,10) ",
          "output_type": "error",
          "traceback": [
            "\u001b[0;31m---------------------------------------------------------------------------\u001b[0m",
            "\u001b[0;31mValueError\u001b[0m                                Traceback (most recent call last)",
            "\u001b[0;32m<ipython-input-24-62a734a0aa7a>\u001b[0m in \u001b[0;36m<module>\u001b[0;34m\u001b[0m\n\u001b[1;32m      2\u001b[0m \u001b[0;34m\u001b[0m\u001b[0m\n\u001b[1;32m      3\u001b[0m \u001b[0mb\u001b[0m \u001b[0;34m=\u001b[0m \u001b[0mnp\u001b[0m\u001b[0;34m.\u001b[0m\u001b[0mrandom\u001b[0m\u001b[0;34m.\u001b[0m\u001b[0mrandint\u001b[0m\u001b[0;34m(\u001b[0m\u001b[0;36m10\u001b[0m\u001b[0;34m,\u001b[0m \u001b[0msize\u001b[0m\u001b[0;34m=\u001b[0m\u001b[0;34m(\u001b[0m\u001b[0;36m2\u001b[0m\u001b[0;34m,\u001b[0m\u001b[0;36m10\u001b[0m\u001b[0;34m)\u001b[0m\u001b[0;34m)\u001b[0m\u001b[0;34m\u001b[0m\u001b[0;34m\u001b[0m\u001b[0m\n\u001b[0;32m----> 4\u001b[0;31m \u001b[0msum_vectores\u001b[0m\u001b[0;34m(\u001b[0m\u001b[0ma\u001b[0m\u001b[0;34m,\u001b[0m\u001b[0mb\u001b[0m\u001b[0;34m)\u001b[0m\u001b[0;34m\u001b[0m\u001b[0;34m\u001b[0m\u001b[0m\n\u001b[0m",
            "\u001b[0;32m<ipython-input-20-9ad973122bbe>\u001b[0m in \u001b[0;36msum_vectores\u001b[0;34m(vec1, vec2)\u001b[0m\n\u001b[1;32m      1\u001b[0m \u001b[0;32mdef\u001b[0m \u001b[0msum_vectores\u001b[0m\u001b[0;34m(\u001b[0m\u001b[0mvec1\u001b[0m\u001b[0;34m,\u001b[0m\u001b[0mvec2\u001b[0m\u001b[0;34m)\u001b[0m\u001b[0;34m:\u001b[0m                \u001b[0;31m# Definimos funcion en donde sumamos 2 vectores del array\u001b[0m\u001b[0;34m\u001b[0m\u001b[0;34m\u001b[0m\u001b[0m\n\u001b[0;32m----> 2\u001b[0;31m     \u001b[0mresultado\u001b[0m \u001b[0;34m=\u001b[0m \u001b[0mvec1\u001b[0m \u001b[0;34m+\u001b[0m \u001b[0mvec2\u001b[0m                 \u001b[0;31m# Guardamos el resultado de la suma de los dos vectores en variable \"resultado\"\u001b[0m\u001b[0;34m\u001b[0m\u001b[0;34m\u001b[0m\u001b[0m\n\u001b[0m\u001b[1;32m      3\u001b[0m     \u001b[0;32mreturn\u001b[0m \u001b[0mresultado\u001b[0m                        \u001b[0;31m# Retornamos resultado\u001b[0m\u001b[0;34m\u001b[0m\u001b[0;34m\u001b[0m\u001b[0m\n",
            "\u001b[0;31mValueError\u001b[0m: operands could not be broadcast together with shapes (3,4) (2,10) "
          ]
        }
      ]
    },
    {
      "cell_type": "markdown",
      "metadata": {
        "id": "1b753e06"
      },
      "source": [
        "### Detalle:\n",
        "\n",
        "__Un detalle nada mas, que estaria bueno que la funcion haga un check si ambos vectores que entran a la suma o multiplicacion son compatibles para realizar la operacion__"
      ],
      "id": "1b753e06"
    },
    {
      "cell_type": "code",
      "metadata": {
        "id": "8179d6e6"
      },
      "source": [
        "def prod_vectores(vec1, vec2):             # Definimos funcion en donde hacemos el producto vectorial de 2 vectores del array\n",
        "    resultado = np.matmul(vec1, vec2)      # Guardamos el resultado del producto de los dos vectores en variable \"resultado\"\n",
        "    return resultado                       # Retornamos resultado"
      ],
      "id": "8179d6e6",
      "execution_count": null,
      "outputs": []
    },
    {
      "cell_type": "code",
      "metadata": {
        "id": "bd331a8d",
        "outputId": "ac1b1861-5b0f-40f7-dfd3-d603348254e8"
      },
      "source": [
        "prod_vectores(seleccion(Array_reshaped),seleccion(Array_reshaped))  # imprimimos el producto de dos vectores"
      ],
      "id": "bd331a8d",
      "execution_count": null,
      "outputs": [
        {
          "name": "stdout",
          "output_type": "stream",
          "text": [
            "Seleccionar un vector del Array para operar> 1\n",
            "Seleccionar un vector del Array para operar> 2\n"
          ]
        },
        {
          "data": {
            "text/plain": [
              "36040"
            ]
          },
          "execution_count": 23,
          "metadata": {},
          "output_type": "execute_result"
        }
      ]
    },
    {
      "cell_type": "markdown",
      "metadata": {
        "id": "761b361a"
      },
      "source": [
        "## Ejercicio 3> \n",
        "#### En este link se provee un archivo con los resultados de la Encuesta de Sueldos de Openqube de Febrero 2020 (https://sueldos.openqube.io/encuesta-sueldos-2020.02/ ), Calcular y comparar media y mediana de los sueldos netos.\n"
      ],
      "id": "761b361a"
    },
    {
      "cell_type": "code",
      "metadata": {
        "id": "42ce82af",
        "scrolled": true,
        "outputId": "7e457ea9-4a60-4894-ffe0-f20fbe80cbc2"
      },
      "source": [
        "### Calculando mean y median utilizando (1) Pandas y (2) Numpy.\n",
        "import pandas as pd                               # importamos pandas\n",
        "salarios_pd = pd.read_excel('Salarios_OQ.xlsx')   # importamos dataset \"Salarios_OQ.xlsx\" a pandas dataframe\n",
        "salarios_np = np.array(salarios_pd)               # importamos dataset      \"             a numpy array\n"
      ],
      "id": "42ce82af",
      "execution_count": null,
      "outputs": [
        {
          "ename": "FileNotFoundError",
          "evalue": "[Errno 2] No such file or directory: 'Salarios_OQ.xlsx'",
          "output_type": "error",
          "traceback": [
            "\u001b[0;31m---------------------------------------------------------------------------\u001b[0m",
            "\u001b[0;31mFileNotFoundError\u001b[0m                         Traceback (most recent call last)",
            "\u001b[0;32m<ipython-input-25-5b900c5407b7>\u001b[0m in \u001b[0;36m<module>\u001b[0;34m\u001b[0m\n\u001b[1;32m      1\u001b[0m \u001b[0;31m### Calculando mean y median utilizando (1) Pandas y (2) Numpy.\u001b[0m\u001b[0;34m\u001b[0m\u001b[0;34m\u001b[0m\u001b[0;34m\u001b[0m\u001b[0m\n\u001b[1;32m      2\u001b[0m \u001b[0;32mimport\u001b[0m \u001b[0mpandas\u001b[0m \u001b[0;32mas\u001b[0m \u001b[0mpd\u001b[0m                               \u001b[0;31m# importamos pandas\u001b[0m\u001b[0;34m\u001b[0m\u001b[0;34m\u001b[0m\u001b[0m\n\u001b[0;32m----> 3\u001b[0;31m \u001b[0msalarios_pd\u001b[0m \u001b[0;34m=\u001b[0m \u001b[0mpd\u001b[0m\u001b[0;34m.\u001b[0m\u001b[0mread_excel\u001b[0m\u001b[0;34m(\u001b[0m\u001b[0;34m'Salarios_OQ.xlsx'\u001b[0m\u001b[0;34m)\u001b[0m   \u001b[0;31m# importamos dataset \"Salarios_OQ.xlsx\" a pandas dataframe\u001b[0m\u001b[0;34m\u001b[0m\u001b[0;34m\u001b[0m\u001b[0m\n\u001b[0m\u001b[1;32m      4\u001b[0m \u001b[0msalarios_np\u001b[0m \u001b[0;34m=\u001b[0m \u001b[0mnp\u001b[0m\u001b[0;34m.\u001b[0m\u001b[0marray\u001b[0m\u001b[0;34m(\u001b[0m\u001b[0msalarios_pd\u001b[0m\u001b[0;34m)\u001b[0m               \u001b[0;31m# importamos dataset      \"             a numpy array\u001b[0m\u001b[0;34m\u001b[0m\u001b[0;34m\u001b[0m\u001b[0m\n",
            "\u001b[0;32m~/anaconda3/lib/python3.8/site-packages/pandas/util/_decorators.py\u001b[0m in \u001b[0;36mwrapper\u001b[0;34m(*args, **kwargs)\u001b[0m\n\u001b[1;32m    294\u001b[0m                 )\n\u001b[1;32m    295\u001b[0m                 \u001b[0mwarnings\u001b[0m\u001b[0;34m.\u001b[0m\u001b[0mwarn\u001b[0m\u001b[0;34m(\u001b[0m\u001b[0mmsg\u001b[0m\u001b[0;34m,\u001b[0m \u001b[0mFutureWarning\u001b[0m\u001b[0;34m,\u001b[0m \u001b[0mstacklevel\u001b[0m\u001b[0;34m=\u001b[0m\u001b[0mstacklevel\u001b[0m\u001b[0;34m)\u001b[0m\u001b[0;34m\u001b[0m\u001b[0;34m\u001b[0m\u001b[0m\n\u001b[0;32m--> 296\u001b[0;31m             \u001b[0;32mreturn\u001b[0m \u001b[0mfunc\u001b[0m\u001b[0;34m(\u001b[0m\u001b[0;34m*\u001b[0m\u001b[0margs\u001b[0m\u001b[0;34m,\u001b[0m \u001b[0;34m**\u001b[0m\u001b[0mkwargs\u001b[0m\u001b[0;34m)\u001b[0m\u001b[0;34m\u001b[0m\u001b[0;34m\u001b[0m\u001b[0m\n\u001b[0m\u001b[1;32m    297\u001b[0m \u001b[0;34m\u001b[0m\u001b[0m\n\u001b[1;32m    298\u001b[0m         \u001b[0;32mreturn\u001b[0m \u001b[0mwrapper\u001b[0m\u001b[0;34m\u001b[0m\u001b[0;34m\u001b[0m\u001b[0m\n",
            "\u001b[0;32m~/anaconda3/lib/python3.8/site-packages/pandas/io/excel/_base.py\u001b[0m in \u001b[0;36mread_excel\u001b[0;34m(io, sheet_name, header, names, index_col, usecols, squeeze, dtype, engine, converters, true_values, false_values, skiprows, nrows, na_values, keep_default_na, na_filter, verbose, parse_dates, date_parser, thousands, comment, skipfooter, convert_float, mangle_dupe_cols)\u001b[0m\n\u001b[1;32m    302\u001b[0m \u001b[0;34m\u001b[0m\u001b[0m\n\u001b[1;32m    303\u001b[0m     \u001b[0;32mif\u001b[0m \u001b[0;32mnot\u001b[0m \u001b[0misinstance\u001b[0m\u001b[0;34m(\u001b[0m\u001b[0mio\u001b[0m\u001b[0;34m,\u001b[0m \u001b[0mExcelFile\u001b[0m\u001b[0;34m)\u001b[0m\u001b[0;34m:\u001b[0m\u001b[0;34m\u001b[0m\u001b[0;34m\u001b[0m\u001b[0m\n\u001b[0;32m--> 304\u001b[0;31m         \u001b[0mio\u001b[0m \u001b[0;34m=\u001b[0m \u001b[0mExcelFile\u001b[0m\u001b[0;34m(\u001b[0m\u001b[0mio\u001b[0m\u001b[0;34m,\u001b[0m \u001b[0mengine\u001b[0m\u001b[0;34m=\u001b[0m\u001b[0mengine\u001b[0m\u001b[0;34m)\u001b[0m\u001b[0;34m\u001b[0m\u001b[0;34m\u001b[0m\u001b[0m\n\u001b[0m\u001b[1;32m    305\u001b[0m     \u001b[0;32melif\u001b[0m \u001b[0mengine\u001b[0m \u001b[0;32mand\u001b[0m \u001b[0mengine\u001b[0m \u001b[0;34m!=\u001b[0m \u001b[0mio\u001b[0m\u001b[0;34m.\u001b[0m\u001b[0mengine\u001b[0m\u001b[0;34m:\u001b[0m\u001b[0;34m\u001b[0m\u001b[0;34m\u001b[0m\u001b[0m\n\u001b[1;32m    306\u001b[0m         raise ValueError(\n",
            "\u001b[0;32m~/anaconda3/lib/python3.8/site-packages/pandas/io/excel/_base.py\u001b[0m in \u001b[0;36m__init__\u001b[0;34m(self, path_or_buffer, engine)\u001b[0m\n\u001b[1;32m    865\u001b[0m         \u001b[0mself\u001b[0m\u001b[0;34m.\u001b[0m\u001b[0m_io\u001b[0m \u001b[0;34m=\u001b[0m \u001b[0mstringify_path\u001b[0m\u001b[0;34m(\u001b[0m\u001b[0mpath_or_buffer\u001b[0m\u001b[0;34m)\u001b[0m\u001b[0;34m\u001b[0m\u001b[0;34m\u001b[0m\u001b[0m\n\u001b[1;32m    866\u001b[0m \u001b[0;34m\u001b[0m\u001b[0m\n\u001b[0;32m--> 867\u001b[0;31m         \u001b[0mself\u001b[0m\u001b[0;34m.\u001b[0m\u001b[0m_reader\u001b[0m \u001b[0;34m=\u001b[0m \u001b[0mself\u001b[0m\u001b[0;34m.\u001b[0m\u001b[0m_engines\u001b[0m\u001b[0;34m[\u001b[0m\u001b[0mengine\u001b[0m\u001b[0;34m]\u001b[0m\u001b[0;34m(\u001b[0m\u001b[0mself\u001b[0m\u001b[0;34m.\u001b[0m\u001b[0m_io\u001b[0m\u001b[0;34m)\u001b[0m\u001b[0;34m\u001b[0m\u001b[0;34m\u001b[0m\u001b[0m\n\u001b[0m\u001b[1;32m    868\u001b[0m \u001b[0;34m\u001b[0m\u001b[0m\n\u001b[1;32m    869\u001b[0m     \u001b[0;32mdef\u001b[0m \u001b[0m__fspath__\u001b[0m\u001b[0;34m(\u001b[0m\u001b[0mself\u001b[0m\u001b[0;34m)\u001b[0m\u001b[0;34m:\u001b[0m\u001b[0;34m\u001b[0m\u001b[0;34m\u001b[0m\u001b[0m\n",
            "\u001b[0;32m~/anaconda3/lib/python3.8/site-packages/pandas/io/excel/_xlrd.py\u001b[0m in \u001b[0;36m__init__\u001b[0;34m(self, filepath_or_buffer)\u001b[0m\n\u001b[1;32m     20\u001b[0m         \u001b[0merr_msg\u001b[0m \u001b[0;34m=\u001b[0m \u001b[0;34m\"Install xlrd >= 1.0.0 for Excel support\"\u001b[0m\u001b[0;34m\u001b[0m\u001b[0;34m\u001b[0m\u001b[0m\n\u001b[1;32m     21\u001b[0m         \u001b[0mimport_optional_dependency\u001b[0m\u001b[0;34m(\u001b[0m\u001b[0;34m\"xlrd\"\u001b[0m\u001b[0;34m,\u001b[0m \u001b[0mextra\u001b[0m\u001b[0;34m=\u001b[0m\u001b[0merr_msg\u001b[0m\u001b[0;34m)\u001b[0m\u001b[0;34m\u001b[0m\u001b[0;34m\u001b[0m\u001b[0m\n\u001b[0;32m---> 22\u001b[0;31m         \u001b[0msuper\u001b[0m\u001b[0;34m(\u001b[0m\u001b[0;34m)\u001b[0m\u001b[0;34m.\u001b[0m\u001b[0m__init__\u001b[0m\u001b[0;34m(\u001b[0m\u001b[0mfilepath_or_buffer\u001b[0m\u001b[0;34m)\u001b[0m\u001b[0;34m\u001b[0m\u001b[0;34m\u001b[0m\u001b[0m\n\u001b[0m\u001b[1;32m     23\u001b[0m \u001b[0;34m\u001b[0m\u001b[0m\n\u001b[1;32m     24\u001b[0m     \u001b[0;34m@\u001b[0m\u001b[0mproperty\u001b[0m\u001b[0;34m\u001b[0m\u001b[0;34m\u001b[0m\u001b[0m\n",
            "\u001b[0;32m~/anaconda3/lib/python3.8/site-packages/pandas/io/excel/_base.py\u001b[0m in \u001b[0;36m__init__\u001b[0;34m(self, filepath_or_buffer)\u001b[0m\n\u001b[1;32m    351\u001b[0m             \u001b[0mself\u001b[0m\u001b[0;34m.\u001b[0m\u001b[0mbook\u001b[0m \u001b[0;34m=\u001b[0m \u001b[0mself\u001b[0m\u001b[0;34m.\u001b[0m\u001b[0mload_workbook\u001b[0m\u001b[0;34m(\u001b[0m\u001b[0mfilepath_or_buffer\u001b[0m\u001b[0;34m)\u001b[0m\u001b[0;34m\u001b[0m\u001b[0;34m\u001b[0m\u001b[0m\n\u001b[1;32m    352\u001b[0m         \u001b[0;32melif\u001b[0m \u001b[0misinstance\u001b[0m\u001b[0;34m(\u001b[0m\u001b[0mfilepath_or_buffer\u001b[0m\u001b[0;34m,\u001b[0m \u001b[0mstr\u001b[0m\u001b[0;34m)\u001b[0m\u001b[0;34m:\u001b[0m\u001b[0;34m\u001b[0m\u001b[0;34m\u001b[0m\u001b[0m\n\u001b[0;32m--> 353\u001b[0;31m             \u001b[0mself\u001b[0m\u001b[0;34m.\u001b[0m\u001b[0mbook\u001b[0m \u001b[0;34m=\u001b[0m \u001b[0mself\u001b[0m\u001b[0;34m.\u001b[0m\u001b[0mload_workbook\u001b[0m\u001b[0;34m(\u001b[0m\u001b[0mfilepath_or_buffer\u001b[0m\u001b[0;34m)\u001b[0m\u001b[0;34m\u001b[0m\u001b[0;34m\u001b[0m\u001b[0m\n\u001b[0m\u001b[1;32m    354\u001b[0m         \u001b[0;32melif\u001b[0m \u001b[0misinstance\u001b[0m\u001b[0;34m(\u001b[0m\u001b[0mfilepath_or_buffer\u001b[0m\u001b[0;34m,\u001b[0m \u001b[0mbytes\u001b[0m\u001b[0;34m)\u001b[0m\u001b[0;34m:\u001b[0m\u001b[0;34m\u001b[0m\u001b[0;34m\u001b[0m\u001b[0m\n\u001b[1;32m    355\u001b[0m             \u001b[0mself\u001b[0m\u001b[0;34m.\u001b[0m\u001b[0mbook\u001b[0m \u001b[0;34m=\u001b[0m \u001b[0mself\u001b[0m\u001b[0;34m.\u001b[0m\u001b[0mload_workbook\u001b[0m\u001b[0;34m(\u001b[0m\u001b[0mBytesIO\u001b[0m\u001b[0;34m(\u001b[0m\u001b[0mfilepath_or_buffer\u001b[0m\u001b[0;34m)\u001b[0m\u001b[0;34m)\u001b[0m\u001b[0;34m\u001b[0m\u001b[0;34m\u001b[0m\u001b[0m\n",
            "\u001b[0;32m~/anaconda3/lib/python3.8/site-packages/pandas/io/excel/_xlrd.py\u001b[0m in \u001b[0;36mload_workbook\u001b[0;34m(self, filepath_or_buffer)\u001b[0m\n\u001b[1;32m     35\u001b[0m             \u001b[0;32mreturn\u001b[0m \u001b[0mopen_workbook\u001b[0m\u001b[0;34m(\u001b[0m\u001b[0mfile_contents\u001b[0m\u001b[0;34m=\u001b[0m\u001b[0mdata\u001b[0m\u001b[0;34m)\u001b[0m\u001b[0;34m\u001b[0m\u001b[0;34m\u001b[0m\u001b[0m\n\u001b[1;32m     36\u001b[0m         \u001b[0;32melse\u001b[0m\u001b[0;34m:\u001b[0m\u001b[0;34m\u001b[0m\u001b[0;34m\u001b[0m\u001b[0m\n\u001b[0;32m---> 37\u001b[0;31m             \u001b[0;32mreturn\u001b[0m \u001b[0mopen_workbook\u001b[0m\u001b[0;34m(\u001b[0m\u001b[0mfilepath_or_buffer\u001b[0m\u001b[0;34m)\u001b[0m\u001b[0;34m\u001b[0m\u001b[0;34m\u001b[0m\u001b[0m\n\u001b[0m\u001b[1;32m     38\u001b[0m \u001b[0;34m\u001b[0m\u001b[0m\n\u001b[1;32m     39\u001b[0m     \u001b[0;34m@\u001b[0m\u001b[0mproperty\u001b[0m\u001b[0;34m\u001b[0m\u001b[0;34m\u001b[0m\u001b[0m\n",
            "\u001b[0;32m~/anaconda3/lib/python3.8/site-packages/xlrd/__init__.py\u001b[0m in \u001b[0;36mopen_workbook\u001b[0;34m(filename, logfile, verbosity, use_mmap, file_contents, encoding_override, formatting_info, on_demand, ragged_rows)\u001b[0m\n\u001b[1;32m    109\u001b[0m     \u001b[0;32melse\u001b[0m\u001b[0;34m:\u001b[0m\u001b[0;34m\u001b[0m\u001b[0;34m\u001b[0m\u001b[0m\n\u001b[1;32m    110\u001b[0m         \u001b[0mfilename\u001b[0m \u001b[0;34m=\u001b[0m \u001b[0mos\u001b[0m\u001b[0;34m.\u001b[0m\u001b[0mpath\u001b[0m\u001b[0;34m.\u001b[0m\u001b[0mexpanduser\u001b[0m\u001b[0;34m(\u001b[0m\u001b[0mfilename\u001b[0m\u001b[0;34m)\u001b[0m\u001b[0;34m\u001b[0m\u001b[0;34m\u001b[0m\u001b[0m\n\u001b[0;32m--> 111\u001b[0;31m         \u001b[0;32mwith\u001b[0m \u001b[0mopen\u001b[0m\u001b[0;34m(\u001b[0m\u001b[0mfilename\u001b[0m\u001b[0;34m,\u001b[0m \u001b[0;34m\"rb\"\u001b[0m\u001b[0;34m)\u001b[0m \u001b[0;32mas\u001b[0m \u001b[0mf\u001b[0m\u001b[0;34m:\u001b[0m\u001b[0;34m\u001b[0m\u001b[0;34m\u001b[0m\u001b[0m\n\u001b[0m\u001b[1;32m    112\u001b[0m             \u001b[0mpeek\u001b[0m \u001b[0;34m=\u001b[0m \u001b[0mf\u001b[0m\u001b[0;34m.\u001b[0m\u001b[0mread\u001b[0m\u001b[0;34m(\u001b[0m\u001b[0mpeeksz\u001b[0m\u001b[0;34m)\u001b[0m\u001b[0;34m\u001b[0m\u001b[0;34m\u001b[0m\u001b[0m\n\u001b[1;32m    113\u001b[0m     \u001b[0;32mif\u001b[0m \u001b[0mpeek\u001b[0m \u001b[0;34m==\u001b[0m \u001b[0;34mb\"PK\\x03\\x04\"\u001b[0m\u001b[0;34m:\u001b[0m \u001b[0;31m# a ZIP file\u001b[0m\u001b[0;34m\u001b[0m\u001b[0;34m\u001b[0m\u001b[0m\n",
            "\u001b[0;31mFileNotFoundError\u001b[0m: [Errno 2] No such file or directory: 'Salarios_OQ.xlsx'"
          ]
        }
      ]
    },
    {
      "cell_type": "markdown",
      "metadata": {
        "id": "a2853015"
      },
      "source": [
        "#### Calculo con Numpy"
      ],
      "id": "a2853015"
    },
    {
      "cell_type": "code",
      "metadata": {
        "id": "e82003a3"
      },
      "source": [
        "salario_neto = salarios_np[:,30]                  # Creando un vector unico con toda la data de salario neto"
      ],
      "id": "e82003a3",
      "execution_count": null,
      "outputs": []
    },
    {
      "cell_type": "code",
      "metadata": {
        "id": "f76d1323",
        "outputId": "3cd365b4-08b0-4235-f064-c35ce5290173"
      },
      "source": [
        "np.median(salario_neto)                           # Calculando la mediana de la columna \"Salario Neto\""
      ],
      "id": "f76d1323",
      "execution_count": null,
      "outputs": [
        {
          "data": {
            "text/plain": [
              "76000.0"
            ]
          },
          "execution_count": 15,
          "metadata": {
            "tags": []
          },
          "output_type": "execute_result"
        }
      ]
    },
    {
      "cell_type": "code",
      "metadata": {
        "id": "e0fdc96e",
        "outputId": "02ff2580-49af-45e5-c380-eb534f42485f"
      },
      "source": [
        "np.mean(salario_neto)                             # Calculando el mean de la columna \"Salario Neto\""
      ],
      "id": "e0fdc96e",
      "execution_count": null,
      "outputs": [
        {
          "data": {
            "text/plain": [
              "nan"
            ]
          },
          "execution_count": 16,
          "metadata": {
            "tags": []
          },
          "output_type": "execute_result"
        }
      ]
    },
    {
      "cell_type": "code",
      "metadata": {
        "id": "089e286f",
        "outputId": "12ae2ad3-867e-46de-f4fc-84b210615c6c"
      },
      "source": [
        "Salarios_Netos_Limpios = salario_neto[salario_neto >= 0]   # Separamos aquellos registros que son numericos"
      ],
      "id": "089e286f",
      "execution_count": null,
      "outputs": [
        {
          "name": "stderr",
          "output_type": "stream",
          "text": [
            "<ipython-input-17-0cf23a1c94e6>:1: RuntimeWarning: invalid value encountered in greater_equal\n",
            "  Salarios_Netos_Limpios = salario_neto[salario_neto >= 0]   # Separamos aquellos registros que son numericos\n"
          ]
        }
      ]
    },
    {
      "cell_type": "code",
      "metadata": {
        "id": "3fbf2711",
        "outputId": "546cdff5-a168-429f-fcbd-719bfbcc7913"
      },
      "source": [
        "np.mean(Salarios_Netos_Limpios)                            # Calculo mean con numpy, con array solo numerico"
      ],
      "id": "3fbf2711",
      "execution_count": null,
      "outputs": [
        {
          "data": {
            "text/plain": [
              "19309452.112037756"
            ]
          },
          "execution_count": 18,
          "metadata": {
            "tags": []
          },
          "output_type": "execute_result"
        }
      ]
    },
    {
      "cell_type": "markdown",
      "metadata": {
        "id": "48770cea"
      },
      "source": [
        "#### Calculando con Pandas"
      ],
      "id": "48770cea"
    },
    {
      "cell_type": "code",
      "metadata": {
        "id": "2abd8d28",
        "outputId": "5b56f532-a6b1-4a69-c094-e6b5e5910e11"
      },
      "source": [
        "### Calculando la mediana solo de la columna \"Salario NETO\" segun lo solicitado en el ejercicio\n",
        "salarios_pd[\"Salario mensual NETO (en tu moneda local)\"].median()"
      ],
      "id": "2abd8d28",
      "execution_count": null,
      "outputs": [
        {
          "data": {
            "text/plain": [
              "76000.0"
            ]
          },
          "execution_count": 19,
          "metadata": {
            "tags": []
          },
          "output_type": "execute_result"
        }
      ]
    },
    {
      "cell_type": "code",
      "metadata": {
        "id": "86ffdb00",
        "outputId": "51e80338-64bf-42f7-d936-c0bd8cc2c62e"
      },
      "source": [
        "### Calculando el mean solo de la columna \"Salario NETO\" segun lo solicitado en el ejercicio\n",
        "salarios_pd[\"Salario mensual NETO (en tu moneda local)\"].mean()"
      ],
      "id": "86ffdb00",
      "execution_count": null,
      "outputs": [
        {
          "data": {
            "text/plain": [
              "19309452.112037756"
            ]
          },
          "execution_count": 20,
          "metadata": {
            "tags": []
          },
          "output_type": "execute_result"
        }
      ]
    },
    {
      "cell_type": "markdown",
      "metadata": {
        "id": "ebb7f06c"
      },
      "source": [
        "### Un ultimo detalle:\n",
        "\n",
        "__A diferencia quizas de otro lenguajes, en  python las mejores practicas indican que al nombrar variables se evite el uso de mayusculas. Por ejemplo una variable que definiste se llama `Array_aleatorio` lo mejor seria que utilicemos todas minusculas con `_` que separen las palabras: `array_aleatorio`.__\n",
        "\n",
        "__Por si te interesa Pedro, ya que noto que sos una persona curiosa, te dejo un [link](https://pep8.org/#names-to-avoid) donde cuentan las PEP8 que son las mejores practicas de escritura de codigo para python. No es necesario que las uses simplemente te paso el dato por si queres chusmear.__"
      ],
      "id": "ebb7f06c"
    },
    {
      "cell_type": "code",
      "metadata": {
        "id": "c8b422cb"
      },
      "source": [
        ""
      ],
      "id": "c8b422cb",
      "execution_count": null,
      "outputs": []
    }
  ]
}